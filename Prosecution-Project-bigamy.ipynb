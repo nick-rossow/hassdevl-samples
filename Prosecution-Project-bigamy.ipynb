{
 "cells": [
  {
   "cell_type": "code",
   "execution_count": 214,
   "metadata": {},
   "outputs": [],
   "source": [
    "import requests\n",
    "import json"
   ]
  },
  {
   "cell_type": "code",
   "execution_count": 215,
   "metadata": {},
   "outputs": [],
   "source": [
    "host = 'https://dataverse-dev.ada.edu.au'                  # All clients >4.0 are supported\n",
    "token = 'enter your token key'  # Generated at /account/apitoken\n",
    "headers = {'X-Dataverse-key' : token }"
   ]
  },
  {
   "cell_type": "code",
   "execution_count": 216,
   "metadata": {},
   "outputs": [
    {
     "name": "stdout",
     "output_type": "stream",
     "text": [
      "Prosecutions Project https://dataverse-dev.ada.edu.au/dataverse/prosecutions_project dataverse prosecutions_project\n"
     ]
    }
   ],
   "source": [
    "# Get the datacerse, datasets and filesi for AES dataverse\n",
    "url = '{host}/api/search?q=prosecutions&type=dataverse&type=dataset&type=file&per_page=200&sort=name&order=asc'.format(host=host)\n",
    "r1 = requests.get(url, headers = headers)\n",
    "data = json.loads(r1.content).get('data')\n",
    "for item in data['items']:\n",
    "    print(item['name'], item['url'], item['type'], item.get('identifier', 'None'))\n",
    "#print(data['items'])"
   ]
  },
  {
   "cell_type": "code",
   "execution_count": 217,
   "metadata": {},
   "outputs": [],
   "source": [
    "# Get the dataset by doi\n",
    "url = '{host}/api/datasets/:persistentId/?persistentId=doi:10.5072/FK2/JZ2GDI'.format(host=host)\n",
    "r1 = requests.get(url, headers = headers)\n",
    "data = json.loads(r1.content).get('data')\n",
    "#print(json.dumps(data['latestVersion']['files'], indent=4))"
   ]
  },
  {
   "cell_type": "code",
   "execution_count": 218,
   "metadata": {},
   "outputs": [
    {
     "name": "stdout",
     "output_type": "stream",
     "text": [
      "[\n",
      "    {\n",
      "        \"description\": \"Initial file deposit - CSV format\",\n",
      "        \"label\": \"excelVSC_NSWSC_SASC_QSC_bigamy24Nov2017.tab\",\n",
      "        \"version\": 2,\n",
      "        \"datasetVersionId\": 233,\n",
      "        \"dataFile\": {\n",
      "            \"id\": 1098,\n",
      "            \"filename\": \"excelVSC_NSWSC_SASC_QSC_bigamy24Nov2017.tab\",\n",
      "            \"contentType\": \"text/tab-separated-values\",\n",
      "            \"filesize\": 465256,\n",
      "            \"description\": \"Initial file deposit - CSV format\",\n",
      "            \"storageIdentifier\": \"165887d48f6-be3e76676f34\",\n",
      "            \"originalFileFormat\": \"text/csv\",\n",
      "            \"originalFormatLabel\": \"Comma Separated Values\",\n",
      "            \"UNF\": \"UNF:6:xCDk+swu3Zu4Ezp6XQKuOg==\",\n",
      "            \"rootDataFileId\": -1,\n",
      "            \"md5\": \"2a9f2feae08113c6fd9fe584c93e3b16\",\n",
      "            \"checksum\": {\n",
      "                \"type\": \"MD5\",\n",
      "                \"value\": \"2a9f2feae08113c6fd9fe584c93e3b16\"\n",
      "            }\n",
      "        }\n",
      "    }\n",
      "]\n"
     ]
    }
   ],
   "source": [
    "# Get the files for dataset with specified dataset id\n",
    "# Extract tte dataset id\n",
    "dsid  = data.get('id')\n",
    "url = '{host}/api/datasets/{id}/versions/:latest/files'.format(host=host, id=dsid)\n",
    "r1 = requests.get(url, headers = headers)\n",
    "data = json.loads(r1.content).get('data')\n",
    "print(json.dumps(data, indent=4))"
   ]
  },
  {
   "cell_type": "code",
   "execution_count": 219,
   "metadata": {},
   "outputs": [],
   "source": [
    "# Get the content of the data file\n",
    "fileid = data[0].get('dataFile').get('id')\n",
    "url = '{host}/api/access/datafile/{id}?format=original'.format(host=host, id=fileid)\n",
    "r1 = requests.get(url, headers = headers)\n",
    "data = r1.content\n",
    "#print(data)"
   ]
  },
  {
   "cell_type": "code",
   "execution_count": 220,
   "metadata": {},
   "outputs": [
    {
     "data": {
      "text/plain": [
       "359457"
      ]
     },
     "execution_count": 220,
     "metadata": {},
     "output_type": "execute_result"
    }
   ],
   "source": [
    "# Save the data\n",
    "aes_file = open('bigamy_file.csv', mode='wb')\n",
    "aes_file.write(r1.content)"
   ]
  },
  {
   "cell_type": "code",
   "execution_count": 221,
   "metadata": {},
   "outputs": [
    {
     "data": {
      "text/html": [
       "<table>\n",
       "<thead>\n",
       "<tr><th>Plea to Bigany                                                         </th><th style=\"text-align: right;\">  Total</th></tr>\n",
       "</thead>\n",
       "<tbody>\n",
       "<tr><td>GUILTY                                                                 </td><td style=\"text-align: right;\">    476</td></tr>\n",
       "<tr><td>NOT GUILTY                                                             </td><td style=\"text-align: right;\">    144</td></tr>\n",
       "<tr><td>                                                                       </td><td style=\"text-align: right;\">    327</td></tr>\n",
       "<tr><td>NG                                                                     </td><td style=\"text-align: right;\">     20</td></tr>\n",
       "<tr><td>G                                                                      </td><td style=\"text-align: right;\">     62</td></tr>\n",
       "<tr><td>NK                                                                     </td><td style=\"text-align: right;\">      1</td></tr>\n",
       "<tr><td>PLEA GUILTY TO BIGAMY                                                  </td><td style=\"text-align: right;\">      1</td></tr>\n",
       "<tr><td>PLEA GUILTY                                                            </td><td style=\"text-align: right;\">      1</td></tr>\n",
       "<tr><td>NONE RECORDED                                                          </td><td style=\"text-align: right;\">      2</td></tr>\n",
       "<tr><td>POSTPONED                                                              </td><td style=\"text-align: right;\">     26</td></tr>\n",
       "<tr><td>NOT GUILTY PLEA WITHDRAWN AFTER EVIDENCE GIVEN OR PLEA WITH GUILTY MADE</td><td style=\"text-align: right;\">      1</td></tr>\n",
       "<tr><td>NOT ENTERED                                                            </td><td style=\"text-align: right;\">      2</td></tr>\n",
       "<tr><td>UNKNOWN                                                                </td><td style=\"text-align: right;\">      1</td></tr>\n",
       "</tbody>\n",
       "</table>"
      ],
      "text/plain": [
       "<IPython.core.display.HTML object>"
      ]
     },
     "metadata": {},
     "output_type": "display_data"
    }
   ],
   "source": [
    "# Compute the stats\n",
    "from collections import defaultdict\n",
    "from IPython.display import HTML, display\n",
    "import tabulate\n",
    "import csv\n",
    "\n",
    "stats = defaultdict(int)\n",
    "with open('bigamy_file.csv') as csvfile:\n",
    "    reader = csv.DictReader(csvfile)\n",
    "    for row in reader:\n",
    "        #print(row['Def_surname'], row['plea'])\n",
    "        stats[row['plea']] += 1\n",
    "\n",
    "plea_stats = [[_of, _count] for _of, _count in stats.items()]\n",
    "\n",
    "_headers = ['Plea to Bigany', 'Total']\n",
    "display(HTML(tabulate.tabulate(plea_stats, tablefmt='html', headers=_headers)))"
   ]
  },
  {
   "cell_type": "code",
   "execution_count": null,
   "metadata": {},
   "outputs": [],
   "source": []
  }
 ],
 "metadata": {
  "kernelspec": {
   "display_name": "Environment (conda_py36)",
   "language": "python",
   "name": "conda_py36"
  },
  "language_info": {
   "codemirror_mode": {
    "name": "ipython",
    "version": 3
   },
   "file_extension": ".py",
   "mimetype": "text/x-python",
   "name": "python",
   "nbconvert_exporter": "python",
   "pygments_lexer": "ipython3",
   "version": "3.6.8"
  }
 },
 "nbformat": 4,
 "nbformat_minor": 2
}
